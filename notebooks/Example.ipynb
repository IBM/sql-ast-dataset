{
 "cells": [
  {
   "cell_type": "code",
   "execution_count": 1,
   "id": "563e111c-a846-4c5e-b053-afda2ede210c",
   "metadata": {},
   "outputs": [],
   "source": [
    "# Imports\n",
    "from sql_ast_dataset.ast_processing.factory import Factory\n",
    "from sql_ast_dataset.ast_processing.ast_diff_types import ASTDiffInput\n",
    "from typing import List, Any, Dict"
   ]
  },
  {
   "cell_type": "code",
   "execution_count": 2,
   "id": "6d8f70b1-f8bd-4016-9ed9-3039a36852d5",
   "metadata": {},
   "outputs": [],
   "source": [
    "# Helper function to visualize the output strings\n",
    "def print_training_sample(query:str, query_subword_indices: List[Any], query_subword_labels: List[Any]):\n",
    "    index_to_char_map = {idx: char for idx, char in enumerate(query)}\n",
    "    for label, indices in zip(query_subword_labels, query_subword_indices):\n",
    "        color = round(label) # Either 0, or 1\n",
    "\n",
    "        for index in indices:\n",
    "            index_to_char_map[index] = f\"\\x1b[0;{31 + color}m{query[index]}\\x1b[0m\"\n",
    "    ret: str = \"\"\n",
    "    for key in index_to_char_map.keys():\n",
    "        ret += index_to_char_map[key]\n",
    "    return ret"
   ]
  },
  {
   "cell_type": "code",
   "execution_count": 3,
   "id": "c416981b-dfa2-49c8-910a-924923b92d45",
   "metadata": {},
   "outputs": [],
   "source": [
    "# Sample data\n",
    "utterance = \"How many ships ended up being 'Captured'?\"\n",
    "gold_query = \"SELECT COUNT(*) FROM ship WHERE disposition_of_ship = 'Captured'\"\n",
    "\n",
    "wrong_query_list = [\n",
    "    \"SELECT COUNT(*) FROM ship WHERE location = 'captured'\",\n",
    "    \"/* 1 */ SELECT COUNT(*) FROM ship WHERE lost_in_battle IS NULL\",\n",
    "    \"SELECT name FROM ship WHERE disposition_of_ship = 'Captured'\",\n",
    "    \"SELECT COUNT(*) FROM ship WHERE disposition_of_ship = 'captured'\",\n",
    "    \"SELECT ships.id, name FROM ship, death\",\n",
    "    \"SELECT s.name FROM ship AS s WHERE EXISTS(SELECT * FROM death AS d WHERE s.id = d.kill) AND s.Disposition_of_ship = 'unstable'\"\n",
    "]\n",
    "\n",
    "# Generate SQL AST Classification Data\n",
    "query_processor = Factory().build(\"QueryProcessor\", {})\n",
    "assert query_processor is not None\n",
    "\n",
    "ast_diff_list: List[ASTDiffInput] = []\n",
    "# The gold query:\n",
    "ast_diff_list.append(query_processor.process(\n",
    "    sql_query_1=gold_query,\n",
    "    sql_query_2=gold_query,\n",
    "    label=1\n",
    "))\n",
    "\n",
    "for wrong_query in wrong_query_list:\n",
    "    ast_diff_list.append(query_processor.process(\n",
    "        sql_query_1 = wrong_query, # The current query\n",
    "        sql_query_2 = gold_query, # The query to compare against\n",
    "        label = 0\n",
    "    ))"
   ]
  },
  {
   "cell_type": "code",
   "execution_count": 4,
   "id": "f95b7ab3-c69d-445c-8856-66309520631f",
   "metadata": {},
   "outputs": [
    {
     "name": "stdout",
     "output_type": "stream",
     "text": [
      "   How many ships ended up being 'Captured'?\n",
      "1  SELECT COUNT(*) FROM ship WHERE disposition_of_ship = 'Captured'\n",
      "0  SELECT COUNT(*) FROM ship WHERE location = 'captured'\n",
      "0  /* 1 */ SELECT COUNT(*) FROM ship WHERE lost_in_battle IS NULL\n",
      "0  SELECT name FROM ship WHERE disposition_of_ship = 'Captured'\n",
      "0  SELECT COUNT(*) FROM ship WHERE disposition_of_ship = 'captured'\n",
      "0  SELECT ships.id, name FROM ship, death\n",
      "0  SELECT s.name FROM ship AS s WHERE EXISTS(SELECT * FROM death AS d WHERE s.id = d.kill) AND s.Disposition_of_ship = 'unstable'\n"
     ]
    }
   ],
   "source": [
    "# Plain SQL queries\n",
    "print(\"  \", utterance)\n",
    "for sample in ast_diff_list:\n",
    "    # Prints the label and the highlited SQL\n",
    "    print(sample.label, \"\", sample.query)\n",
    "    "
   ]
  },
  {
   "cell_type": "code",
   "execution_count": 5,
   "id": "99127b1d-1136-49c8-b4fa-fe4560f299f1",
   "metadata": {},
   "outputs": [
    {
     "name": "stdout",
     "output_type": "stream",
     "text": [
      "   How many ships ended up being 'Captured'?\n",
      "1 \u001b[0;32mS\u001b[0m\u001b[0;32mE\u001b[0m\u001b[0;32mL\u001b[0m\u001b[0;32mE\u001b[0m\u001b[0;32mC\u001b[0m\u001b[0;32mT\u001b[0m\u001b[0;32m \u001b[0m\u001b[0;32mC\u001b[0m\u001b[0;32mO\u001b[0m\u001b[0;32mU\u001b[0m\u001b[0;32mN\u001b[0m\u001b[0;32mT\u001b[0m\u001b[0;32m(\u001b[0m\u001b[0;32m*\u001b[0m\u001b[0;32m)\u001b[0m\u001b[0;32m \u001b[0m\u001b[0;32mF\u001b[0m\u001b[0;32mR\u001b[0m\u001b[0;32mO\u001b[0m\u001b[0;32mM\u001b[0m\u001b[0;32m \u001b[0m\u001b[0;32ms\u001b[0m\u001b[0;32mh\u001b[0m\u001b[0;32mi\u001b[0m\u001b[0;32mp\u001b[0m\u001b[0;32m \u001b[0m\u001b[0;32mW\u001b[0m\u001b[0;32mH\u001b[0m\u001b[0;32mE\u001b[0m\u001b[0;32mR\u001b[0m\u001b[0;32mE\u001b[0m\u001b[0;32m \u001b[0m\u001b[0;32md\u001b[0m\u001b[0;32mi\u001b[0m\u001b[0;32ms\u001b[0m\u001b[0;32mp\u001b[0m\u001b[0;32mo\u001b[0m\u001b[0;32ms\u001b[0m\u001b[0;32mi\u001b[0m\u001b[0;32mt\u001b[0m\u001b[0;32mi\u001b[0m\u001b[0;32mo\u001b[0m\u001b[0;32mn\u001b[0m\u001b[0;32m_\u001b[0m\u001b[0;32mo\u001b[0m\u001b[0;32mf\u001b[0m\u001b[0;32m_\u001b[0m\u001b[0;32ms\u001b[0m\u001b[0;32mh\u001b[0m\u001b[0;32mi\u001b[0m\u001b[0;32mp\u001b[0m\u001b[0;32m \u001b[0m\u001b[0;32m=\u001b[0m\u001b[0;32m \u001b[0m\u001b[0;32m'\u001b[0m\u001b[0;32mC\u001b[0m\u001b[0;32ma\u001b[0m\u001b[0;32mp\u001b[0m\u001b[0;32mt\u001b[0m\u001b[0;32mu\u001b[0m\u001b[0;32mr\u001b[0m\u001b[0;32me\u001b[0m\u001b[0;32md\u001b[0m\u001b[0;32m'\u001b[0m\n",
      "0 \u001b[0;32mS\u001b[0m\u001b[0;32mE\u001b[0m\u001b[0;32mL\u001b[0m\u001b[0;32mE\u001b[0m\u001b[0;32mC\u001b[0m\u001b[0;32mT\u001b[0m\u001b[0;32m \u001b[0m\u001b[0;32mC\u001b[0m\u001b[0;32mO\u001b[0m\u001b[0;32mU\u001b[0m\u001b[0;32mN\u001b[0m\u001b[0;32mT\u001b[0m\u001b[0;32m(\u001b[0m\u001b[0;32m*\u001b[0m\u001b[0;32m)\u001b[0m\u001b[0;32m \u001b[0m\u001b[0;32mF\u001b[0m\u001b[0;32mR\u001b[0m\u001b[0;32mO\u001b[0m\u001b[0;32mM\u001b[0m\u001b[0;32m \u001b[0m\u001b[0;32ms\u001b[0m\u001b[0;32mh\u001b[0m\u001b[0;32mi\u001b[0m\u001b[0;32mp\u001b[0m\u001b[0;32m \u001b[0m\u001b[0;31mW\u001b[0m\u001b[0;31mH\u001b[0m\u001b[0;31mE\u001b[0m\u001b[0;31mR\u001b[0m\u001b[0;31mE\u001b[0m\u001b[0;31m \u001b[0m\u001b[0;31ml\u001b[0m\u001b[0;31mo\u001b[0m\u001b[0;31mc\u001b[0m\u001b[0;31ma\u001b[0m\u001b[0;31mt\u001b[0m\u001b[0;31mi\u001b[0m\u001b[0;31mo\u001b[0m\u001b[0;31mn\u001b[0m\u001b[0;31m \u001b[0m\u001b[0;31m=\u001b[0m\u001b[0;31m \u001b[0m\u001b[0;31m'\u001b[0m\u001b[0;31mc\u001b[0m\u001b[0;31ma\u001b[0m\u001b[0;31mp\u001b[0m\u001b[0;31mt\u001b[0m\u001b[0;31mu\u001b[0m\u001b[0;31mr\u001b[0m\u001b[0;31me\u001b[0m\u001b[0;31md\u001b[0m\u001b[0;31m'\u001b[0m\n",
      "0 \u001b[0;32m/\u001b[0m\u001b[0;32m*\u001b[0m\u001b[0;32m \u001b[0m\u001b[0;32m1\u001b[0m\u001b[0;32m \u001b[0m\u001b[0;32m*\u001b[0m\u001b[0;32m/\u001b[0m\u001b[0;32m \u001b[0m\u001b[0;32mS\u001b[0m\u001b[0;32mE\u001b[0m\u001b[0;32mL\u001b[0m\u001b[0;32mE\u001b[0m\u001b[0;32mC\u001b[0m\u001b[0;32mT\u001b[0m\u001b[0;32m \u001b[0m\u001b[0;32mC\u001b[0m\u001b[0;32mO\u001b[0m\u001b[0;32mU\u001b[0m\u001b[0;32mN\u001b[0m\u001b[0;32mT\u001b[0m\u001b[0;32m(\u001b[0m\u001b[0;32m*\u001b[0m\u001b[0;32m)\u001b[0m\u001b[0;32m \u001b[0m\u001b[0;32mF\u001b[0m\u001b[0;32mR\u001b[0m\u001b[0;32mO\u001b[0m\u001b[0;32mM\u001b[0m\u001b[0;32m \u001b[0m\u001b[0;32ms\u001b[0m\u001b[0;32mh\u001b[0m\u001b[0;32mi\u001b[0m\u001b[0;32mp\u001b[0m\u001b[0;32m \u001b[0m\u001b[0;31mW\u001b[0m\u001b[0;31mH\u001b[0m\u001b[0;31mE\u001b[0m\u001b[0;31mR\u001b[0m\u001b[0;31mE\u001b[0m\u001b[0;31m \u001b[0m\u001b[0;31ml\u001b[0m\u001b[0;31mo\u001b[0m\u001b[0;31ms\u001b[0m\u001b[0;31mt\u001b[0m\u001b[0;31m_\u001b[0m\u001b[0;31mi\u001b[0m\u001b[0;31mn\u001b[0m\u001b[0;31m_\u001b[0m\u001b[0;31mb\u001b[0m\u001b[0;31ma\u001b[0m\u001b[0;31mt\u001b[0m\u001b[0;31mt\u001b[0m\u001b[0;31ml\u001b[0m\u001b[0;31me\u001b[0m\u001b[0;31m \u001b[0m\u001b[0;31mI\u001b[0m\u001b[0;31mS\u001b[0m\u001b[0;31m \u001b[0m\u001b[0;31mN\u001b[0m\u001b[0;31mU\u001b[0m\u001b[0;31mL\u001b[0m\u001b[0;31mL\u001b[0m\n",
      "0 \u001b[0;32mS\u001b[0m\u001b[0;32mE\u001b[0m\u001b[0;32mL\u001b[0m\u001b[0;32mE\u001b[0m\u001b[0;32mC\u001b[0m\u001b[0;32mT\u001b[0m\u001b[0;32m \u001b[0m\u001b[0;31mn\u001b[0m\u001b[0;31ma\u001b[0m\u001b[0;31mm\u001b[0m\u001b[0;31me\u001b[0m\u001b[0;32m \u001b[0m\u001b[0;32mF\u001b[0m\u001b[0;32mR\u001b[0m\u001b[0;32mO\u001b[0m\u001b[0;32mM\u001b[0m\u001b[0;32m \u001b[0m\u001b[0;32ms\u001b[0m\u001b[0;32mh\u001b[0m\u001b[0;32mi\u001b[0m\u001b[0;32mp\u001b[0m\u001b[0;32m \u001b[0m\u001b[0;32mW\u001b[0m\u001b[0;32mH\u001b[0m\u001b[0;32mE\u001b[0m\u001b[0;32mR\u001b[0m\u001b[0;32mE\u001b[0m\u001b[0;32m \u001b[0m\u001b[0;32md\u001b[0m\u001b[0;32mi\u001b[0m\u001b[0;32ms\u001b[0m\u001b[0;32mp\u001b[0m\u001b[0;32mo\u001b[0m\u001b[0;32ms\u001b[0m\u001b[0;32mi\u001b[0m\u001b[0;32mt\u001b[0m\u001b[0;32mi\u001b[0m\u001b[0;32mo\u001b[0m\u001b[0;32mn\u001b[0m\u001b[0;32m_\u001b[0m\u001b[0;32mo\u001b[0m\u001b[0;32mf\u001b[0m\u001b[0;32m_\u001b[0m\u001b[0;32ms\u001b[0m\u001b[0;32mh\u001b[0m\u001b[0;32mi\u001b[0m\u001b[0;32mp\u001b[0m\u001b[0;32m \u001b[0m\u001b[0;32m=\u001b[0m\u001b[0;32m \u001b[0m\u001b[0;32m'\u001b[0m\u001b[0;32mC\u001b[0m\u001b[0;32ma\u001b[0m\u001b[0;32mp\u001b[0m\u001b[0;32mt\u001b[0m\u001b[0;32mu\u001b[0m\u001b[0;32mr\u001b[0m\u001b[0;32me\u001b[0m\u001b[0;32md\u001b[0m\u001b[0;32m'\u001b[0m\n",
      "0 \u001b[0;32mS\u001b[0m\u001b[0;32mE\u001b[0m\u001b[0;32mL\u001b[0m\u001b[0;32mE\u001b[0m\u001b[0;32mC\u001b[0m\u001b[0;32mT\u001b[0m\u001b[0;32m \u001b[0m\u001b[0;32mC\u001b[0m\u001b[0;32mO\u001b[0m\u001b[0;32mU\u001b[0m\u001b[0;32mN\u001b[0m\u001b[0;32mT\u001b[0m\u001b[0;32m(\u001b[0m\u001b[0;32m*\u001b[0m\u001b[0;32m)\u001b[0m\u001b[0;32m \u001b[0m\u001b[0;32mF\u001b[0m\u001b[0;32mR\u001b[0m\u001b[0;32mO\u001b[0m\u001b[0;32mM\u001b[0m\u001b[0;32m \u001b[0m\u001b[0;32ms\u001b[0m\u001b[0;32mh\u001b[0m\u001b[0;32mi\u001b[0m\u001b[0;32mp\u001b[0m\u001b[0;32m \u001b[0m\u001b[0;32mW\u001b[0m\u001b[0;32mH\u001b[0m\u001b[0;32mE\u001b[0m\u001b[0;32mR\u001b[0m\u001b[0;32mE\u001b[0m\u001b[0;32m \u001b[0m\u001b[0;32md\u001b[0m\u001b[0;32mi\u001b[0m\u001b[0;32ms\u001b[0m\u001b[0;32mp\u001b[0m\u001b[0;32mo\u001b[0m\u001b[0;32ms\u001b[0m\u001b[0;32mi\u001b[0m\u001b[0;32mt\u001b[0m\u001b[0;32mi\u001b[0m\u001b[0;32mo\u001b[0m\u001b[0;32mn\u001b[0m\u001b[0;32m_\u001b[0m\u001b[0;32mo\u001b[0m\u001b[0;32mf\u001b[0m\u001b[0;32m_\u001b[0m\u001b[0;32ms\u001b[0m\u001b[0;32mh\u001b[0m\u001b[0;32mi\u001b[0m\u001b[0;32mp\u001b[0m\u001b[0;32m \u001b[0m\u001b[0;32m=\u001b[0m\u001b[0;32m \u001b[0m\u001b[0;31m'\u001b[0m\u001b[0;31mc\u001b[0m\u001b[0;31ma\u001b[0m\u001b[0;31mp\u001b[0m\u001b[0;31mt\u001b[0m\u001b[0;31mu\u001b[0m\u001b[0;31mr\u001b[0m\u001b[0;31me\u001b[0m\u001b[0;31md\u001b[0m\u001b[0;31m'\u001b[0m\n",
      "0 \u001b[0;32mS\u001b[0m\u001b[0;32mE\u001b[0m\u001b[0;32mL\u001b[0m\u001b[0;32mE\u001b[0m\u001b[0;32mC\u001b[0m\u001b[0;32mT\u001b[0m\u001b[0;32m \u001b[0m\u001b[0;31ms\u001b[0m\u001b[0;31mh\u001b[0m\u001b[0;31mi\u001b[0m\u001b[0;31mp\u001b[0m\u001b[0;31ms\u001b[0m\u001b[0;31m.\u001b[0m\u001b[0;31mi\u001b[0m\u001b[0;31md\u001b[0m\u001b[0;32m,\u001b[0m\u001b[0;32m \u001b[0m\u001b[0;31mn\u001b[0m\u001b[0;31ma\u001b[0m\u001b[0;31mm\u001b[0m\u001b[0;31me\u001b[0m\u001b[0;32m \u001b[0m\u001b[0;32mF\u001b[0m\u001b[0;32mR\u001b[0m\u001b[0;32mO\u001b[0m\u001b[0;32mM\u001b[0m\u001b[0;32m \u001b[0m\u001b[0;32ms\u001b[0m\u001b[0;32mh\u001b[0m\u001b[0;32mi\u001b[0m\u001b[0;32mp\u001b[0m\u001b[0;31m,\u001b[0m\u001b[0;31m \u001b[0m\u001b[0;31md\u001b[0m\u001b[0;31me\u001b[0m\u001b[0;31ma\u001b[0m\u001b[0;31mt\u001b[0m\u001b[0;31mh\u001b[0m\n",
      "0 \u001b[0;32mS\u001b[0m\u001b[0;32mE\u001b[0m\u001b[0;32mL\u001b[0m\u001b[0;32mE\u001b[0m\u001b[0;32mC\u001b[0m\u001b[0;32mT\u001b[0m\u001b[0;32m \u001b[0m\u001b[0;31ms\u001b[0m\u001b[0;31m.\u001b[0m\u001b[0;31mn\u001b[0m\u001b[0;31ma\u001b[0m\u001b[0;31mm\u001b[0m\u001b[0;31me\u001b[0m\u001b[0;32m \u001b[0m\u001b[0;31mF\u001b[0m\u001b[0;31mR\u001b[0m\u001b[0;31mO\u001b[0m\u001b[0;31mM\u001b[0m\u001b[0;31m \u001b[0m\u001b[0;31ms\u001b[0m\u001b[0;31mh\u001b[0m\u001b[0;31mi\u001b[0m\u001b[0;31mp\u001b[0m\u001b[0;31m \u001b[0m\u001b[0;31mA\u001b[0m\u001b[0;31mS\u001b[0m\u001b[0;31m \u001b[0m\u001b[0;31ms\u001b[0m\u001b[0;32m \u001b[0m\u001b[0;31mW\u001b[0m\u001b[0;31mH\u001b[0m\u001b[0;31mE\u001b[0m\u001b[0;31mR\u001b[0m\u001b[0;31mE\u001b[0m\u001b[0;31m \u001b[0m\u001b[0;31mE\u001b[0m\u001b[0;31mX\u001b[0m\u001b[0;31mI\u001b[0m\u001b[0;31mS\u001b[0m\u001b[0;31mT\u001b[0m\u001b[0;31mS\u001b[0m\u001b[0;31m(\u001b[0m\u001b[0;31mS\u001b[0m\u001b[0;31mE\u001b[0m\u001b[0;31mL\u001b[0m\u001b[0;31mE\u001b[0m\u001b[0;31mC\u001b[0m\u001b[0;31mT\u001b[0m\u001b[0;31m \u001b[0m\u001b[0;32m*\u001b[0m\u001b[0;31m \u001b[0m\u001b[0;31mF\u001b[0m\u001b[0;31mR\u001b[0m\u001b[0;31mO\u001b[0m\u001b[0;31mM\u001b[0m\u001b[0;31m \u001b[0m\u001b[0;31md\u001b[0m\u001b[0;31me\u001b[0m\u001b[0;31ma\u001b[0m\u001b[0;31mt\u001b[0m\u001b[0;31mh\u001b[0m\u001b[0;31m \u001b[0m\u001b[0;31mA\u001b[0m\u001b[0;31mS\u001b[0m\u001b[0;31m \u001b[0m\u001b[0;31md\u001b[0m\u001b[0;31m \u001b[0m\u001b[0;31mW\u001b[0m\u001b[0;31mH\u001b[0m\u001b[0;31mE\u001b[0m\u001b[0;31mR\u001b[0m\u001b[0;31mE\u001b[0m\u001b[0;31m \u001b[0m\u001b[0;31ms\u001b[0m\u001b[0;31m.\u001b[0m\u001b[0;31mi\u001b[0m\u001b[0;31md\u001b[0m\u001b[0;31m \u001b[0m\u001b[0;31m=\u001b[0m\u001b[0;31m \u001b[0m\u001b[0;31md\u001b[0m\u001b[0;31m.\u001b[0m\u001b[0;31mk\u001b[0m\u001b[0;31mi\u001b[0m\u001b[0;31ml\u001b[0m\u001b[0;31ml\u001b[0m\u001b[0;31m)\u001b[0m\u001b[0;31m \u001b[0m\u001b[0;31mA\u001b[0m\u001b[0;31mN\u001b[0m\u001b[0;31mD\u001b[0m\u001b[0;31m \u001b[0m\u001b[0;32ms\u001b[0m\u001b[0;32m.\u001b[0m\u001b[0;32mD\u001b[0m\u001b[0;32mi\u001b[0m\u001b[0;32ms\u001b[0m\u001b[0;32mp\u001b[0m\u001b[0;32mo\u001b[0m\u001b[0;32ms\u001b[0m\u001b[0;32mi\u001b[0m\u001b[0;32mt\u001b[0m\u001b[0;32mi\u001b[0m\u001b[0;32mo\u001b[0m\u001b[0;32mn\u001b[0m\u001b[0;32m_\u001b[0m\u001b[0;32mo\u001b[0m\u001b[0;32mf\u001b[0m\u001b[0;32m_\u001b[0m\u001b[0;32ms\u001b[0m\u001b[0;32mh\u001b[0m\u001b[0;32mi\u001b[0m\u001b[0;32mp\u001b[0m\u001b[0;32m \u001b[0m\u001b[0;32m=\u001b[0m\u001b[0;32m \u001b[0m\u001b[0;31m'\u001b[0m\u001b[0;31mu\u001b[0m\u001b[0;31mn\u001b[0m\u001b[0;31ms\u001b[0m\u001b[0;31mt\u001b[0m\u001b[0;31ma\u001b[0m\u001b[0;31mb\u001b[0m\u001b[0;31ml\u001b[0m\u001b[0;31me\u001b[0m\u001b[0;31m'\u001b[0m\n"
     ]
    }
   ],
   "source": [
    "# Simple visualization\n",
    "print(\"  \", utterance)\n",
    "for sample in ast_diff_list:\n",
    "    # Prints the label and the highlighted SQL\n",
    "    print(f\"{sample.label}\", print_training_sample(sample.query, sample.query_subword_indices_as_list(), sample.get_labels()))\n",
    "    "
   ]
  },
  {
   "cell_type": "code",
   "execution_count": null,
   "id": "a1ed2658-376b-415c-8aca-6c65b04bd881",
   "metadata": {},
   "outputs": [],
   "source": []
  }
 ],
 "metadata": {
  "kernelspec": {
   "display_name": "Python 3 (ipykernel)",
   "language": "python",
   "name": "python3"
  },
  "language_info": {
   "codemirror_mode": {
    "name": "ipython",
    "version": 3
   },
   "file_extension": ".py",
   "mimetype": "text/x-python",
   "name": "python",
   "nbconvert_exporter": "python",
   "pygments_lexer": "ipython3",
   "version": "3.10.12"
  }
 },
 "nbformat": 4,
 "nbformat_minor": 5
}
